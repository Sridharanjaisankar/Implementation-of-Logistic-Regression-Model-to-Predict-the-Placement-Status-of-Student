{
 "cells": [
  {
   "cell_type": "code",
   "execution_count": null,
   "id": "a4d0c38e-e0a1-47ba-8147-3f7bb10d4751",
   "metadata": {},
   "outputs": [],
   "source": [
    "print(\"Name: Sridharan J\")\n",
    "print(\"Reg No: 21222040158\")"
   ]
  },
  {
   "cell_type": "code",
   "execution_count": 1,
   "id": "40ebbb98-3309-4dc0-802a-cd1069c8512c",
   "metadata": {},
   "outputs": [
    {
     "name": "stdout",
     "output_type": "stream",
     "text": [
      "Placement DataSet:\n",
      "    sl_no gender  ssc_p    ssc_b  hsc_p    hsc_b     hsc_s  degree_p  \\\n",
      "0      1      M  67.00   Others  91.00   Others  Commerce     58.00   \n",
      "1      2      M  79.33  Central  78.33   Others   Science     77.48   \n",
      "2      3      M  65.00  Central  68.00  Central      Arts     64.00   \n",
      "3      4      M  56.00  Central  52.00  Central   Science     52.00   \n",
      "4      5      M  85.80  Central  73.60  Central  Commerce     73.30   \n",
      "\n",
      "    degree_t workex  etest_p specialisation  mba_p      status    salary  \n",
      "0   Sci&Tech     No     55.0         Mkt&HR  58.80      Placed  270000.0  \n",
      "1   Sci&Tech    Yes     86.5        Mkt&Fin  66.28      Placed  200000.0  \n",
      "2  Comm&Mgmt     No     75.0        Mkt&Fin  57.80      Placed  250000.0  \n",
      "3   Sci&Tech     No     66.0         Mkt&HR  59.43  Not Placed       NaN  \n",
      "4  Comm&Mgmt     No     96.8        Mkt&Fin  55.50      Placed  425000.0  \n",
      "Dataset after dropping sl_no and salary: \n",
      "   gender  ssc_p    ssc_b  hsc_p    hsc_b     hsc_s  degree_p   degree_t  \\\n",
      "0      M  67.00   Others  91.00   Others  Commerce     58.00   Sci&Tech   \n",
      "1      M  79.33  Central  78.33   Others   Science     77.48   Sci&Tech   \n",
      "2      M  65.00  Central  68.00  Central      Arts     64.00  Comm&Mgmt   \n",
      "3      M  56.00  Central  52.00  Central   Science     52.00   Sci&Tech   \n",
      "4      M  85.80  Central  73.60  Central  Commerce     73.30  Comm&Mgmt   \n",
      "\n",
      "  workex  etest_p specialisation  mba_p      status  \n",
      "0     No     55.0         Mkt&HR  58.80      Placed  \n",
      "1    Yes     86.5        Mkt&Fin  66.28      Placed  \n",
      "2     No     75.0        Mkt&Fin  57.80      Placed  \n",
      "3     No     66.0         Mkt&HR  59.43  Not Placed  \n",
      "4     No     96.8        Mkt&Fin  55.50      Placed  \n",
      "Check for Missing and Duplicate Values:\n",
      "     gender  ssc_p  ssc_b  hsc_p  hsc_b  hsc_s  degree_p  degree_t  workex  \\\n",
      "0     False  False  False  False  False  False     False     False   False   \n",
      "1     False  False  False  False  False  False     False     False   False   \n",
      "2     False  False  False  False  False  False     False     False   False   \n",
      "3     False  False  False  False  False  False     False     False   False   \n",
      "4     False  False  False  False  False  False     False     False   False   \n",
      "..      ...    ...    ...    ...    ...    ...       ...       ...     ...   \n",
      "210   False  False  False  False  False  False     False     False   False   \n",
      "211   False  False  False  False  False  False     False     False   False   \n",
      "212   False  False  False  False  False  False     False     False   False   \n",
      "213   False  False  False  False  False  False     False     False   False   \n",
      "214   False  False  False  False  False  False     False     False   False   \n",
      "\n",
      "     etest_p  specialisation  mba_p  status  \n",
      "0      False           False  False   False  \n",
      "1      False           False  False   False  \n",
      "2      False           False  False   False  \n",
      "3      False           False  False   False  \n",
      "4      False           False  False   False  \n",
      "..       ...             ...    ...     ...  \n",
      "210    False           False  False   False  \n",
      "211    False           False  False   False  \n",
      "212    False           False  False   False  \n",
      "213    False           False  False   False  \n",
      "214    False           False  False   False  \n",
      "\n",
      "[215 rows x 13 columns]\n",
      "\n",
      "No of Duplicate entries:  0\n"
     ]
    }
   ],
   "source": [
    "import pandas as pd\n",
    "data=pd.read_csv(\"Placement_Data.csv\")\n",
    "print(\"Placement DataSet:\\n\",data.head())\n",
    "data1=data.copy()\n",
    "data1=data1.drop([\"sl_no\",\"salary\"],axis=1)\n",
    "print(\"Dataset after dropping sl_no and salary: \\n\",data1.head())\n",
    "print(\"Check for Missing and Duplicate Values:\")\n",
    "print(data1.isnull())\n",
    "print(\"\\nNo of Duplicate entries: \",data1.duplicated().sum())\n",
    "from sklearn.preprocessing import LabelEncoder\n",
    "le=LabelEncoder()\n",
    "data1[\"gender\"]=le.fit_transform(data[\"gender\"])\n",
    "data1[\"ssc_b\"]=le.fit_transform(data1[\"ssc_b\"]) \n",
    "data1[\"hsc_b\"]=le.fit_transform(data1[\"hsc_b\"]) \n",
    "data1[\"hsc_s\"]=le.fit_transform(data1[\"hsc_s\"]) \n",
    "data1[\"degree_t\"]=le.fit_transform(data1[\"degree_t\"]) \n",
    "data1[\"workex\"]=le.fit_transform(data1[\"workex\"]) \n",
    "data1[\"specialisation\"]=le.fit_transform(data1[\"specialisation\"]) \n",
    "data1[\"status\"]=le.fit_transform(data1[\"status\"])"
   ]
  },
  {
   "cell_type": "code",
   "execution_count": 2,
   "id": "654c3a5d-0ff8-4f4f-8793-c9a01be4befb",
   "metadata": {},
   "outputs": [],
   "source": [
    "x=data1.iloc[:,:-1]\n",
    "y=data1[\"status\"]\n",
    "from sklearn.model_selection import train_test_split\n",
    "x_train,x_test,y_train,y_test=train_test_split(x,y,test_size=0.2,random_state=0)"
   ]
  },
  {
   "cell_type": "code",
   "execution_count": 3,
   "id": "62673fec-8acc-4b7e-a1d4-cac71683abab",
   "metadata": {},
   "outputs": [
    {
     "name": "stdout",
     "output_type": "stream",
     "text": [
      "Y predicition:  [0 1 1 0 1 0 1 1 1 1 1 1 1 1 0 0 1 0 0 1 0 1 1 1 0 0 1 1 1 1 1 1 1 0 0 1 1\n",
      " 1 1 1 0 0 1]\n"
     ]
    }
   ],
   "source": [
    "from sklearn.linear_model import LogisticRegression\n",
    "lr=LogisticRegression(solver=\"liblinear\")\n",
    "lr.fit(x_train,y_train)\n",
    "y_pred=lr.predict(x_test)\n",
    "print(\"Y predicition: \",y_pred)"
   ]
  },
  {
   "cell_type": "code",
   "execution_count": 4,
   "id": "4213bbce-6ab1-4973-b017-c83530aafacc",
   "metadata": {},
   "outputs": [
    {
     "name": "stdout",
     "output_type": "stream",
     "text": [
      "Accuracy of the model: 0.813953488372093\n"
     ]
    }
   ],
   "source": [
    "from sklearn.metrics import accuracy_score\n",
    "accuracy=accuracy_score(y_test,y_pred)\n",
    "print(f\"Accuracy of the model: {accuracy}\")"
   ]
  },
  {
   "cell_type": "code",
   "execution_count": 5,
   "id": "16f32adf-524f-48b5-86dd-6cce8f65161e",
   "metadata": {},
   "outputs": [
    {
     "name": "stdout",
     "output_type": "stream",
     "text": [
      "              precision    recall  f1-score   support\n",
      "\n",
      "           0       0.79      0.69      0.73        16\n",
      "           1       0.83      0.89      0.86        27\n",
      "\n",
      "    accuracy                           0.81        43\n",
      "   macro avg       0.81      0.79      0.80        43\n",
      "weighted avg       0.81      0.81      0.81        43\n",
      "\n"
     ]
    }
   ],
   "source": [
    "from sklearn.metrics import classification_report\n",
    "classification_report1=classification_report(y_test,y_pred)\n",
    "print(classification_report1)"
   ]
  },
  {
   "cell_type": "code",
   "execution_count": null,
   "id": "93004233-81b1-4ec7-9f9f-10dc25db9114",
   "metadata": {},
   "outputs": [],
   "source": [
    "print(\"Name: Sridharan J\")\n",
    "print(\"Reg No: 21222040158\")"
   ]
  }
 ],
 "metadata": {
  "kernelspec": {
   "display_name": "Python [conda env:base] *",
   "language": "python",
   "name": "conda-base-py"
  },
  "language_info": {
   "codemirror_mode": {
    "name": "ipython",
    "version": 3
   },
   "file_extension": ".py",
   "mimetype": "text/x-python",
   "name": "python",
   "nbconvert_exporter": "python",
   "pygments_lexer": "ipython3",
   "version": "3.12.7"
  }
 },
 "nbformat": 4,
 "nbformat_minor": 5
}
